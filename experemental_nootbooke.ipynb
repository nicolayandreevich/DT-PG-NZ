{
 "cells": [
  {
   "cell_type": "code",
   "execution_count": 1,
   "metadata": {},
   "outputs": [],
   "source": [
    "import pandas as pd\n",
    "from zipfile import ZipFile\n",
    "from  pathlib import Path\n",
    "import calendar\n",
    "import datetime\n",
    "import pickle"
   ]
  },
  {
   "cell_type": "code",
   "execution_count": 2,
   "metadata": {},
   "outputs": [],
   "source": [
    "example = pd.read_excel(r'.\\codes\\Example.xlsx', sheet_name = 'example')\n"
   ]
  },
  {
   "cell_type": "code",
   "execution_count": 5,
   "metadata": {},
   "outputs": [
    {
     "data": {
      "text/plain": [
       "Index(['product_lvls', 'category', 'demo_lvls', 'socdem_gr',\n",
       "       'time_period_type', 'year', 'period_lbl', 'buying_households',\n",
       "       'raw_shoppers', 'loyalty_volume_based',\n",
       "       'loyalty_value_based_local_currency', 'loyalty_value_based_usd',\n",
       "       'percent_2__time_buyers', 'percent_household_penetration',\n",
       "       'purchase_frequency', 'occasions', 'item_buying_rate_local_currency',\n",
       "       'item_buying_rate_usd', 'purchase_size_local_currency',\n",
       "       'purchase_size_usd', 'purchase_size_su',\n",
       "       'average_per_su_local_currency', 'average_per_su_usd', 'volume_su',\n",
       "       'volume_physical_units', 'spend_local_currency', 'spend_usd',\n",
       "       'product_hier', 'demo_hier', 'products', 'features', 'cat_segment',\n",
       "       'demo_groups'],\n",
       "      dtype='object')"
      ]
     },
     "execution_count": 5,
     "metadata": {},
     "output_type": "execute_result"
    }
   ],
   "source": [
    "example.columns\n"
   ]
  },
  {
   "cell_type": "code",
   "execution_count": 48,
   "metadata": {},
   "outputs": [],
   "source": [
    "path = Path(r'C:\\Users\\nyzhur\\Git\\pg-dt-portal-for-nz\\codes\\periods.xlsx')"
   ]
  },
  {
   "cell_type": "code",
   "execution_count": 2,
   "metadata": {},
   "outputs": [
    {
     "name": "stdout",
     "output_type": "stream",
     "text": [
      "{}\n"
     ]
    }
   ],
   "source": [
    "new_data =pd.read_parquet('data/new_data_merged/new_data.pq')\n",
    "col_check = {}\n",
    "for col in new_data.columns:\n",
    "    if new_data[col].isna().sum():\n",
    "        col_check[col] = new_data[col].isna().sum()\n",
    "print(col_check)\n",
    "      "
   ]
  },
  {
   "cell_type": "code",
   "execution_count": 3,
   "metadata": {},
   "outputs": [],
   "source": [
    "meta_information = new_data[['category','period_lbl', 'demo_groups','shop_code']].drop_duplicates()\n",
    "meta_information = meta_information.sort_values(by = ['category','period_lbl', 'demo_groups','shop_code']).reset_index(drop=True)\n",
    "\n"
   ]
  },
  {
   "cell_type": "code",
   "execution_count": 5,
   "metadata": {},
   "outputs": [
    {
     "data": {
      "text/plain": [
       "Index(['spend_local_currency', 'volume_su', 'volume_physical_units',\n",
       "       'occasions', 'buying_households', 'raw_shoppers',\n",
       "       'percent_household_penetration', 'purchase_frequency',\n",
       "       'item_buying_rate_local_currency', 'purchase_size_local_currency',\n",
       "       'purchase_size_su', 'average_per_su_local_currency', 'year', 'features',\n",
       "       'category', 'products', 'product_hier', 'product_lvls', 'demo_groups',\n",
       "       'demo_hier', 'demo_lvls', 'socdem_gr', 'cat_segment', 'shop_code',\n",
       "       'shop_lvls', 'channel_code', 'file', 'period_lbl', 'time_period_type'],\n",
       "      dtype='object')"
      ]
     },
     "execution_count": 5,
     "metadata": {},
     "output_type": "execute_result"
    }
   ],
   "source": [
    "new_data.columns"
   ]
  },
  {
   "cell_type": "code",
   "execution_count": 55,
   "metadata": {},
   "outputs": [],
   "source": [
    "meta_2 = new_data.groupby(['category','period_lbl', 'demo_groups','shop_code'])['file'].agg(set)"
   ]
  },
  {
   "cell_type": "code",
   "execution_count": 62,
   "metadata": {},
   "outputs": [
    {
     "data": {
      "text/plain": [
       "set\n",
       "1    19941\n",
       "2       84\n",
       "Name: count, dtype: int64"
      ]
     },
     "execution_count": 62,
     "metadata": {},
     "output_type": "execute_result"
    }
   ],
   "source": [
    "meta_2['set'].map(len).value_counts()"
   ]
  },
  {
   "cell_type": "code",
   "execution_count": 61,
   "metadata": {},
   "outputs": [
    {
     "data": {
      "text/html": [
       "<div>\n",
       "<style scoped>\n",
       "    .dataframe tbody tr th:only-of-type {\n",
       "        vertical-align: middle;\n",
       "    }\n",
       "\n",
       "    .dataframe tbody tr th {\n",
       "        vertical-align: top;\n",
       "    }\n",
       "\n",
       "    .dataframe thead th {\n",
       "        text-align: right;\n",
       "    }\n",
       "</style>\n",
       "<table border=\"1\" class=\"dataframe\">\n",
       "  <thead>\n",
       "    <tr style=\"text-align: right;\">\n",
       "      <th></th>\n",
       "      <th></th>\n",
       "      <th></th>\n",
       "      <th></th>\n",
       "      <th>set</th>\n",
       "      <th>len</th>\n",
       "    </tr>\n",
       "    <tr>\n",
       "      <th>category</th>\n",
       "      <th>period_lbl</th>\n",
       "      <th>demo_groups</th>\n",
       "      <th>shop_code</th>\n",
       "      <th></th>\n",
       "      <th></th>\n",
       "    </tr>\n",
       "  </thead>\n",
       "  <tbody>\n",
       "    <tr>\n",
       "      <th rowspan=\"4\" valign=\"top\">1</th>\n",
       "      <th>108</th>\n",
       "      <th>1</th>\n",
       "      <th>1</th>\n",
       "      <td>{out_datatile/diapers_socdem-new24.parquet, ou...</td>\n",
       "      <td>650</td>\n",
       "    </tr>\n",
       "    <tr>\n",
       "      <th>109</th>\n",
       "      <th>1</th>\n",
       "      <th>1</th>\n",
       "      <td>{out_datatile/diapers_socdem-new24.parquet, ou...</td>\n",
       "      <td>618</td>\n",
       "    </tr>\n",
       "    <tr>\n",
       "      <th>117</th>\n",
       "      <th>1</th>\n",
       "      <th>1</th>\n",
       "      <td>{out-for-datatile-sep24/diapers_allshops.parqu...</td>\n",
       "      <td>654</td>\n",
       "    </tr>\n",
       "    <tr>\n",
       "      <th>119</th>\n",
       "      <th>1</th>\n",
       "      <th>1</th>\n",
       "      <td>{out-for-datatile-sep24/diapers_allshops.parqu...</td>\n",
       "      <td>620</td>\n",
       "    </tr>\n",
       "    <tr>\n",
       "      <th>2</th>\n",
       "      <th>107</th>\n",
       "      <th>1</th>\n",
       "      <th>1</th>\n",
       "      <td>{out-for-datatile/br_allshops.parquet, out_dat...</td>\n",
       "      <td>684</td>\n",
       "    </tr>\n",
       "    <tr>\n",
       "      <th>...</th>\n",
       "      <th>...</th>\n",
       "      <th>...</th>\n",
       "      <th>...</th>\n",
       "      <td>...</td>\n",
       "      <td>...</td>\n",
       "    </tr>\n",
       "    <tr>\n",
       "      <th rowspan=\"5\" valign=\"top\">6</th>\n",
       "      <th>115</th>\n",
       "      <th>1</th>\n",
       "      <th>1</th>\n",
       "      <td>{out-for-datatile-sep24/deterg_allshops.parque...</td>\n",
       "      <td>2614</td>\n",
       "    </tr>\n",
       "    <tr>\n",
       "      <th>116</th>\n",
       "      <th>1</th>\n",
       "      <th>1</th>\n",
       "      <td>{out-for-datatile-sep24/deterg_allshops.parque...</td>\n",
       "      <td>2484</td>\n",
       "    </tr>\n",
       "    <tr>\n",
       "      <th>117</th>\n",
       "      <th>1</th>\n",
       "      <th>1</th>\n",
       "      <td>{out-for-datatile-sep24/deterg_allshops.parque...</td>\n",
       "      <td>2618</td>\n",
       "    </tr>\n",
       "    <tr>\n",
       "      <th>119</th>\n",
       "      <th>1</th>\n",
       "      <th>1</th>\n",
       "      <td>{out-for-datatile-sep24/deterg_allshops.parque...</td>\n",
       "      <td>2510</td>\n",
       "    </tr>\n",
       "    <tr>\n",
       "      <th>120</th>\n",
       "      <th>1</th>\n",
       "      <th>1</th>\n",
       "      <td>{out-for-datatile-sep24/deterg_allshops.parque...</td>\n",
       "      <td>2396</td>\n",
       "    </tr>\n",
       "  </tbody>\n",
       "</table>\n",
       "<p>84 rows × 2 columns</p>\n",
       "</div>"
      ],
      "text/plain": [
       "                                                                                         set  \\\n",
       "category period_lbl demo_groups shop_code                                                      \n",
       "1        108        1           1          {out_datatile/diapers_socdem-new24.parquet, ou...   \n",
       "         109        1           1          {out_datatile/diapers_socdem-new24.parquet, ou...   \n",
       "         117        1           1          {out-for-datatile-sep24/diapers_allshops.parqu...   \n",
       "         119        1           1          {out-for-datatile-sep24/diapers_allshops.parqu...   \n",
       "2        107        1           1          {out-for-datatile/br_allshops.parquet, out_dat...   \n",
       "...                                                                                      ...   \n",
       "6        115        1           1          {out-for-datatile-sep24/deterg_allshops.parque...   \n",
       "         116        1           1          {out-for-datatile-sep24/deterg_allshops.parque...   \n",
       "         117        1           1          {out-for-datatile-sep24/deterg_allshops.parque...   \n",
       "         119        1           1          {out-for-datatile-sep24/deterg_allshops.parque...   \n",
       "         120        1           1          {out-for-datatile-sep24/deterg_allshops.parque...   \n",
       "\n",
       "                                            len  \n",
       "category period_lbl demo_groups shop_code        \n",
       "1        108        1           1           650  \n",
       "         109        1           1           618  \n",
       "         117        1           1           654  \n",
       "         119        1           1           620  \n",
       "2        107        1           1           684  \n",
       "...                                         ...  \n",
       "6        115        1           1          2614  \n",
       "         116        1           1          2484  \n",
       "         117        1           1          2618  \n",
       "         119        1           1          2510  \n",
       "         120        1           1          2396  \n",
       "\n",
       "[84 rows x 2 columns]"
      ]
     },
     "execution_count": 61,
     "metadata": {},
     "output_type": "execute_result"
    }
   ],
   "source": [
    "meta_2[meta_2['set'].map(len)==2]"
   ]
  },
  {
   "cell_type": "code",
   "execution_count": 20,
   "metadata": {},
   "outputs": [],
   "source": [
    "meta_2 = pd.DataFrame(meta_2)"
   ]
  },
  {
   "cell_type": "code",
   "execution_count": 30,
   "metadata": {},
   "outputs": [],
   "source": [
    "meta_2['len'] = meta_2['file'].str.(',')"
   ]
  },
  {
   "cell_type": "code",
   "execution_count": 45,
   "metadata": {},
   "outputs": [
    {
     "data": {
      "text/html": [
       "<div>\n",
       "<style scoped>\n",
       "    .dataframe tbody tr th:only-of-type {\n",
       "        vertical-align: middle;\n",
       "    }\n",
       "\n",
       "    .dataframe tbody tr th {\n",
       "        vertical-align: top;\n",
       "    }\n",
       "\n",
       "    .dataframe thead th {\n",
       "        text-align: right;\n",
       "    }\n",
       "</style>\n",
       "<table border=\"1\" class=\"dataframe\">\n",
       "  <thead>\n",
       "    <tr style=\"text-align: right;\">\n",
       "      <th></th>\n",
       "      <th></th>\n",
       "      <th></th>\n",
       "      <th>file</th>\n",
       "      <th>len</th>\n",
       "    </tr>\n",
       "    <tr>\n",
       "      <th>period_lbl</th>\n",
       "      <th>demo_groups</th>\n",
       "      <th>shop_code</th>\n",
       "      <th></th>\n",
       "      <th></th>\n",
       "    </tr>\n",
       "  </thead>\n",
       "  <tbody>\n",
       "    <tr>\n",
       "      <th rowspan=\"5\" valign=\"top\">9</th>\n",
       "      <th rowspan=\"5\" valign=\"top\">1</th>\n",
       "      <th>1</th>\n",
       "      <td>[out-for-datatile/diapers_allshops.parquet, ou...</td>\n",
       "      <td>NaN</td>\n",
       "    </tr>\n",
       "    <tr>\n",
       "      <th>2</th>\n",
       "      <td>[out-for-datatile/diapers_allshops.parquet, ou...</td>\n",
       "      <td>NaN</td>\n",
       "    </tr>\n",
       "    <tr>\n",
       "      <th>4</th>\n",
       "      <td>[out-for-datatile/diapers_allshops.parquet, ou...</td>\n",
       "      <td>NaN</td>\n",
       "    </tr>\n",
       "    <tr>\n",
       "      <th>5</th>\n",
       "      <td>[out-for-datatile/diapers_allshops.parquet, ou...</td>\n",
       "      <td>NaN</td>\n",
       "    </tr>\n",
       "    <tr>\n",
       "      <th>8</th>\n",
       "      <td>[out-for-datatile/diapers_allshops.parquet, ou...</td>\n",
       "      <td>NaN</td>\n",
       "    </tr>\n",
       "    <tr>\n",
       "      <th>...</th>\n",
       "      <th>...</th>\n",
       "      <th>...</th>\n",
       "      <td>...</td>\n",
       "      <td>...</td>\n",
       "    </tr>\n",
       "    <tr>\n",
       "      <th rowspan=\"5\" valign=\"top\">119</th>\n",
       "      <th>49</th>\n",
       "      <th>1</th>\n",
       "      <td>[out_datatile/diapers_socdem-new24.parquet, ou...</td>\n",
       "      <td>NaN</td>\n",
       "    </tr>\n",
       "    <tr>\n",
       "      <th>50</th>\n",
       "      <th>1</th>\n",
       "      <td>[out_datatile/diapers_socdem-new24.parquet, ou...</td>\n",
       "      <td>NaN</td>\n",
       "    </tr>\n",
       "    <tr>\n",
       "      <th>51</th>\n",
       "      <th>1</th>\n",
       "      <td>[out_datatile/diapers_socdem-new24.parquet, ou...</td>\n",
       "      <td>NaN</td>\n",
       "    </tr>\n",
       "    <tr>\n",
       "      <th>52</th>\n",
       "      <th>1</th>\n",
       "      <td>[out_datatile/diapers_socdem-new24.parquet, ou...</td>\n",
       "      <td>NaN</td>\n",
       "    </tr>\n",
       "    <tr>\n",
       "      <th>53</th>\n",
       "      <th>1</th>\n",
       "      <td>[out_datatile/diapers_socdem-new24.parquet, ou...</td>\n",
       "      <td>NaN</td>\n",
       "    </tr>\n",
       "  </tbody>\n",
       "</table>\n",
       "<p>986 rows × 2 columns</p>\n",
       "</div>"
      ],
      "text/plain": [
       "                                                                               file  \\\n",
       "period_lbl demo_groups shop_code                                                      \n",
       "9          1           1          [out-for-datatile/diapers_allshops.parquet, ou...   \n",
       "                       2          [out-for-datatile/diapers_allshops.parquet, ou...   \n",
       "                       4          [out-for-datatile/diapers_allshops.parquet, ou...   \n",
       "                       5          [out-for-datatile/diapers_allshops.parquet, ou...   \n",
       "                       8          [out-for-datatile/diapers_allshops.parquet, ou...   \n",
       "...                                                                             ...   \n",
       "119        49          1          [out_datatile/diapers_socdem-new24.parquet, ou...   \n",
       "           50          1          [out_datatile/diapers_socdem-new24.parquet, ou...   \n",
       "           51          1          [out_datatile/diapers_socdem-new24.parquet, ou...   \n",
       "           52          1          [out_datatile/diapers_socdem-new24.parquet, ou...   \n",
       "           53          1          [out_datatile/diapers_socdem-new24.parquet, ou...   \n",
       "\n",
       "                                  len  \n",
       "period_lbl demo_groups shop_code       \n",
       "9          1           1          NaN  \n",
       "                       2          NaN  \n",
       "                       4          NaN  \n",
       "                       5          NaN  \n",
       "                       8          NaN  \n",
       "...                               ...  \n",
       "119        49          1          NaN  \n",
       "           50          1          NaN  \n",
       "           51          1          NaN  \n",
       "           52          1          NaN  \n",
       "           53          1          NaN  \n",
       "\n",
       "[986 rows x 2 columns]"
      ]
     },
     "execution_count": 45,
     "metadata": {},
     "output_type": "execute_result"
    }
   ],
   "source": [
    "meta_2.loc[1]"
   ]
  },
  {
   "cell_type": "code",
   "execution_count": 73,
   "metadata": {},
   "outputs": [],
   "source": [
    "with open('data/tmp/old_data.pickle', 'rb') as f:\n",
    "    old_data = pickle.load(f)"
   ]
  },
  {
   "cell_type": "code",
   "execution_count": 74,
   "metadata": {},
   "outputs": [],
   "source": [
    "df_union = pd.concat([old_data, new_data], ignore_index=True)"
   ]
  },
  {
   "cell_type": "code",
   "execution_count": 65,
   "metadata": {},
   "outputs": [
    {
     "data": {
      "text/plain": [
       "(13857113, 37)"
      ]
     },
     "execution_count": 65,
     "metadata": {},
     "output_type": "execute_result"
    }
   ],
   "source": [
    "i = df_union.shape\n",
    "i"
   ]
  },
  {
   "cell_type": "code",
   "execution_count": 66,
   "metadata": {},
   "outputs": [],
   "source": [
    "df_union_direct_drop = df_union.drop_duplicates()"
   ]
  },
  {
   "cell_type": "code",
   "execution_count": 67,
   "metadata": {},
   "outputs": [
    {
     "data": {
      "text/plain": [
       "(13857113, 37)"
      ]
     },
     "execution_count": 67,
     "metadata": {},
     "output_type": "execute_result"
    }
   ],
   "source": [
    "df_union_direct_drop.shape"
   ]
  },
  {
   "cell_type": "code",
   "execution_count": 68,
   "metadata": {},
   "outputs": [],
   "source": [
    "example = pd.read_excel(r'.\\codes\\Example.xlsx', sheet_name = 'example')\n",
    "fin_cols = example.columns.to_list() + ['shop_code', 'shop_lvls','channel_code']\n"
   ]
  },
  {
   "cell_type": "code",
   "execution_count": 69,
   "metadata": {},
   "outputs": [],
   "source": [
    "df_union_list_drop = df_union.drop_duplicates(subset = fin_cols )"
   ]
  },
  {
   "cell_type": "code",
   "execution_count": 71,
   "metadata": {},
   "outputs": [
    {
     "data": {
      "text/plain": [
       "1985"
      ]
     },
     "execution_count": 71,
     "metadata": {},
     "output_type": "execute_result"
    }
   ],
   "source": [
    "i[0] -df_union_list_drop.shape[0]"
   ]
  },
  {
   "cell_type": "code",
   "execution_count": 72,
   "metadata": {},
   "outputs": [
    {
     "data": {
      "text/plain": [
       "['product_lvls',\n",
       " 'category',\n",
       " 'demo_lvls',\n",
       " 'socdem_gr',\n",
       " 'time_period_type',\n",
       " 'year',\n",
       " 'period_lbl',\n",
       " 'buying_households',\n",
       " 'raw_shoppers',\n",
       " 'loyalty_volume_based',\n",
       " 'loyalty_value_based_local_currency',\n",
       " 'loyalty_value_based_usd',\n",
       " 'percent_2__time_buyers',\n",
       " 'percent_household_penetration',\n",
       " 'purchase_frequency',\n",
       " 'occasions',\n",
       " 'item_buying_rate_local_currency',\n",
       " 'item_buying_rate_usd',\n",
       " 'purchase_size_local_currency',\n",
       " 'purchase_size_usd',\n",
       " 'purchase_size_su',\n",
       " 'average_per_su_local_currency',\n",
       " 'average_per_su_usd',\n",
       " 'volume_su',\n",
       " 'volume_physical_units',\n",
       " 'spend_local_currency',\n",
       " 'spend_usd',\n",
       " 'product_hier',\n",
       " 'demo_hier',\n",
       " 'products',\n",
       " 'features',\n",
       " 'cat_segment',\n",
       " 'demo_groups',\n",
       " 'shop_code',\n",
       " 'shop_lvls',\n",
       " 'channel_code']"
      ]
     },
     "execution_count": 72,
     "metadata": {},
     "output_type": "execute_result"
    }
   ],
   "source": [
    "fin_cols"
   ]
  },
  {
   "cell_type": "code",
   "execution_count": 79,
   "metadata": {},
   "outputs": [],
   "source": [
    "meta_2 = df_union.groupby(['cat_segment','category','period_lbl', 'demo_groups','shop_code'])['file'].agg(set)"
   ]
  },
  {
   "cell_type": "code",
   "execution_count": 87,
   "metadata": {},
   "outputs": [
    {
     "data": {
      "text/plain": [
       "file\n",
       "1    169624\n",
       "2      2257\n",
       "3         2\n",
       "Name: count, dtype: int64"
      ]
     },
     "execution_count": 87,
     "metadata": {},
     "output_type": "execute_result"
    }
   ],
   "source": [
    "meta_2.map(len).value_counts()"
   ]
  },
  {
   "cell_type": "code",
   "execution_count": 86,
   "metadata": {},
   "outputs": [
    {
     "data": {
      "text/plain": [
       "cat_segment  category  period_lbl  demo_groups  shop_code\n",
       "100          1         9           1            1            {PG_Flatfiles_Diapers, out-for-datatile/diaper...\n",
       "                       12          1            1            {PG_Flatfiles_Diapers, out-for-datatile/diaper...\n",
       "                       15          1            1            {PG_Flatfiles_Diapers, out-for-datatile/diaper...\n",
       "                       18          1            1            {PG_Flatfiles_Diapers, out-for-datatile/diaper...\n",
       "                       21          1            1            {PG_Flatfiles_Diapers, out-for-datatile/diaper...\n",
       "                                                                                   ...                        \n",
       "611          6         115         1            1            {out-for-datatile-sep24/deterg_allshops.parque...\n",
       "                       116         1            1            {out-for-datatile-sep24/deterg_allshops.parque...\n",
       "                       117         1            1            {out-for-datatile-sep24/deterg_allshops.parque...\n",
       "                       119         1            1            {out-for-datatile-sep24/deterg_allshops.parque...\n",
       "                       120         1            1            {out-for-datatile-sep24/deterg_allshops.parque...\n",
       "Name: file, Length: 2259, dtype: object"
      ]
     },
     "execution_count": 86,
     "metadata": {},
     "output_type": "execute_result"
    }
   ],
   "source": [
    "meta_2.loc[meta_2.map(len)>1]"
   ]
  }
 ],
 "metadata": {
  "kernelspec": {
   "display_name": "base",
   "language": "python",
   "name": "python3"
  },
  "language_info": {
   "codemirror_mode": {
    "name": "ipython",
    "version": 3
   },
   "file_extension": ".py",
   "mimetype": "text/x-python",
   "name": "python",
   "nbconvert_exporter": "python",
   "pygments_lexer": "ipython3",
   "version": "3.12.4"
  }
 },
 "nbformat": 4,
 "nbformat_minor": 2
}
