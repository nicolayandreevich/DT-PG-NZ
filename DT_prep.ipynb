{
 "cells": [
  {
   "cell_type": "code",
   "execution_count": 1,
   "id": "37092f94-6edb-48f5-ade8-06e3e038cad4",
   "metadata": {},
   "outputs": [],
   "source": [
    "import pandas as pd\n",
    "#!pip install pyreadstat\n",
    "#!pip install py7zr\n",
    "import py7zr\n",
    "import calendar\n",
    "import os"
   ]
  },
  {
   "cell_type": "code",
   "execution_count": 114,
   "id": "39550fef",
   "metadata": {},
   "outputs": [],
   "source": [
    "features_group = pd.read_excel(r'.\\codes\\feature_groups.xlsx')\n",
    "demo_order = pd.read_excel(r'.\\codes\\demo_order.xlsx')\n",
    "periods = pd.read_excel(r'.\\codes\\periods.xlsx', sheet_name ='period_lbl')\n",
    "time_period_type = pd.read_excel(r'.\\codes\\periods.xlsx', sheet_name ='time_period_type')\n",
    "year = pd.read_excel(r'.\\codes\\periods.xlsx', sheet_name ='year')\n",
    "segments_order = pd.read_excel(r'.\\codes\\segments_order.xlsx')"
   ]
  },
  {
   "cell_type": "code",
   "execution_count": 3,
   "id": "6d3fca09",
   "metadata": {},
   "outputs": [],
   "source": [
    "example = pd.read_excel('../Example.xlsx', sheet_name = 'example')\n",
    "legends = pd.read_excel('../Example.xlsx', sheet_name = 'legends')"
   ]
  },
  {
   "cell_type": "code",
   "execution_count": 4,
   "id": "1afc835f",
   "metadata": {},
   "outputs": [
    {
     "data": {
      "text/plain": [
       "['br_allshops.parquet',\n",
       " 'br_tot.parquet',\n",
       " 'deterg_allshops.parquet',\n",
       " 'deterg_tot.parquet',\n",
       " 'diapers_allshops.parquet',\n",
       " 'diapers_tot.parquet',\n",
       " 'femcare_allshops.parquet',\n",
       " 'femcare_tot.parquet',\n",
       " 'haircond_allshops.parquet',\n",
       " 'haircond_tot.parquet',\n",
       " 'shampoo_allshops.parquet',\n",
       " 'shampoo_tot.parquet']"
      ]
     },
     "execution_count": 4,
     "metadata": {},
     "output_type": "execute_result"
    }
   ],
   "source": [
    "archive = py7zr.SevenZipFile('../data_in/out-for-datatile.7z', 'r')  \n",
    "archive.extractall(path=\"/tmp\")\n",
    "path = '/tmp/out-for-datatile'\n",
    "files = os.listdir(path)\n",
    "files\n"
   ]
  },
  {
   "cell_type": "code",
   "execution_count": 84,
   "id": "6e30295d",
   "metadata": {},
   "outputs": [],
   "source": [
    "cat_dict = {'br':'MALE B&R', 'deterg': 'Laundry Detergents','diapers': 'Diapers','femcare': 'Feminine Care', \n",
    "                'haircond': 'Hair Conditioners', 'shampoo':'Shampoos' }\n",
    "time_period_type_dict ={ 24 :'2MATs/ 104 we', 12:'MAT/ 52 we', 3:'3MMT/ 12we' }"
   ]
  },
  {
   "cell_type": "code",
   "execution_count": 120,
   "id": "6daee56c",
   "metadata": {},
   "outputs": [],
   "source": [
    "def get_df_in_v2(path, file):\n",
    "    categoty  = cat_dict[file.split('_')[0]]\n",
    "    type_of_file = file.split('_')[1]\n",
    "    df_in = pd.read_parquet(f'{path}\\\\{file}')\n",
    "    df_in = df_in.rename({'Category Name':'Product Name', 'Buyer Group Name':'buyers_gr_label'\n",
    "                           }, axis=1 )\n",
    "    df_in['Category Name'] = [categoty] * len( df_in)\n",
    "    \n",
    "    col_to_int = ['duration', 'year', 'month']\n",
    "    for col in col_to_int:\n",
    "        df_in[col] = df_in[col].astype(int)\n",
    "    \n",
    "    df_in['time_period_type'] = df_in['duration'].map(time_period_type_dict) \n",
    "    #Ниже нужно оптимизировать функцию, по 10 секунд выполняется\n",
    "    df_in['period_lbl'] = df_in[['time_period_type', 'year', 'month']].apply(\n",
    "        lambda row:f\"{row['time_period_type'].split('/')[0]}: {calendar.month_abbr[row['month']]} {row['year']}\", axis=1 )  \n",
    "    print(df_in.shape)\n",
    "    df_in = df_in.merge(features_group, on =['Category Name', 'Product Name'], how = 'left') \n",
    "    print(df_in.shape)\n",
    "    df_in = df_in.merge(demo_order, on =['buyers_gr_label'], how = 'left')\n",
    "    print(df_in.shape)\n",
    "    df_in = df_in.merge(periods, on =['period_lbl'], how = 'left') \n",
    "    print(df_in.shape)\n",
    "    df_in = df_in.merge(time_period_type, on =['time_period_type'], how = 'left')\n",
    "    print(df_in.shape)\n",
    "    df_in = df_in.merge(year, on =['year'], how = 'left')\n",
    "    print(df_in.shape)\n",
    "    df_in = df_in.merge(segments_order, on =['Segment'], how = 'left')\n",
    "    print(df_in.shape)\n",
    "    return df_in\n",
    "    "
   ]
  },
  {
   "cell_type": "code",
   "execution_count": 121,
   "id": "b9fd6335",
   "metadata": {},
   "outputs": [
    {
     "name": "stdout",
     "output_type": "stream",
     "text": [
      "(210575, 34)\n",
      "(210575, 42)\n",
      "(210575, 47)\n",
      "(210575, 49)\n",
      "(210575, 50)\n",
      "(210575, 51)\n",
      "(210575, 52)\n"
     ]
    }
   ],
   "source": [
    "df_in_one = get_df_in_v2(path, files[0])"
   ]
  },
  {
   "cell_type": "code",
   "execution_count": 122,
   "id": "536b4d42",
   "metadata": {},
   "outputs": [
    {
     "name": "stdout",
     "output_type": "stream",
     "text": [
      "Segment 0\n",
      "Product Name 0\n",
      "position_name_shop 0\n",
      "value 0\n",
      "volume_gl 0\n",
      "volume_SU 0\n",
      "volume_pack 0\n",
      "trips_raw 0\n",
      "trips 0\n",
      "buyers 0\n",
      "buyers_raw 0\n",
      "population 0\n",
      "penetration 0\n",
      "frequency 0\n",
      "spend_per_buyer 0\n",
      "spend_per_trip 0\n",
      "volume_per_buyer_g 0\n",
      "volume_per_buyer_su 0\n",
      "volume_per_buyer_pack 0\n",
      "volume_per_trip_g 0\n",
      "volume_per_trip_su 0\n",
      "volume_per_trip_pack 0\n",
      "avg_price_g 0\n",
      "avg_price_su 0\n",
      "avg_price_pack 0\n",
      "avg_pack_size 0\n",
      "month_end 0\n",
      "duration 0\n",
      "buyers_gr_label 0\n",
      "year 0\n",
      "month 0\n",
      "Category Name 0\n",
      "time_period_type 0\n",
      "period_lbl 0\n",
      "Vendor Product ID 0\n",
      "feature 0\n",
      "feature_code 0\n",
      "category_code 0\n",
      "product_code 0\n",
      "full_label 0\n",
      "product_hier 0\n",
      "product_lvls 0\n",
      "Buyer Group ID 0\n",
      "demo_code 0\n",
      "demo_hier 0\n",
      "demo_lvls 0\n",
      "socdem_gr 0\n",
      "period_code 24249\n",
      "label_num 24249\n",
      "time_period_code 47251\n",
      "year_code 0\n",
      "segment_code 0\n"
     ]
    }
   ],
   "source": [
    "for col in df_in_one:\n",
    "    print(col,sum(df_in_one[col].isnull()))"
   ]
  },
  {
   "cell_type": "code",
   "execution_count": 126,
   "id": "903139c5",
   "metadata": {},
   "outputs": [
    {
     "data": {
      "text/html": [
       "<div>\n",
       "<style scoped>\n",
       "    .dataframe tbody tr th:only-of-type {\n",
       "        vertical-align: middle;\n",
       "    }\n",
       "\n",
       "    .dataframe tbody tr th {\n",
       "        vertical-align: top;\n",
       "    }\n",
       "\n",
       "    .dataframe thead th {\n",
       "        text-align: right;\n",
       "    }\n",
       "</style>\n",
       "<table border=\"1\" class=\"dataframe\">\n",
       "  <thead>\n",
       "    <tr style=\"text-align: right;\">\n",
       "      <th></th>\n",
       "      <th>year</th>\n",
       "      <th>month</th>\n",
       "      <th>duration</th>\n",
       "      <th>period_lbl</th>\n",
       "    </tr>\n",
       "  </thead>\n",
       "  <tbody>\n",
       "    <tr>\n",
       "      <th>38028</th>\n",
       "      <td>2024</td>\n",
       "      <td>6</td>\n",
       "      <td>24</td>\n",
       "      <td>2MATs: Jun 2024</td>\n",
       "    </tr>\n",
       "    <tr>\n",
       "      <th>38029</th>\n",
       "      <td>2024</td>\n",
       "      <td>6</td>\n",
       "      <td>24</td>\n",
       "      <td>2MATs: Jun 2024</td>\n",
       "    </tr>\n",
       "    <tr>\n",
       "      <th>38030</th>\n",
       "      <td>2024</td>\n",
       "      <td>6</td>\n",
       "      <td>24</td>\n",
       "      <td>2MATs: Jun 2024</td>\n",
       "    </tr>\n",
       "    <tr>\n",
       "      <th>38031</th>\n",
       "      <td>2024</td>\n",
       "      <td>6</td>\n",
       "      <td>24</td>\n",
       "      <td>2MATs: Jun 2024</td>\n",
       "    </tr>\n",
       "    <tr>\n",
       "      <th>38032</th>\n",
       "      <td>2024</td>\n",
       "      <td>6</td>\n",
       "      <td>24</td>\n",
       "      <td>2MATs: Jun 2024</td>\n",
       "    </tr>\n",
       "    <tr>\n",
       "      <th>...</th>\n",
       "      <td>...</td>\n",
       "      <td>...</td>\n",
       "      <td>...</td>\n",
       "      <td>...</td>\n",
       "    </tr>\n",
       "    <tr>\n",
       "      <th>210570</th>\n",
       "      <td>2024</td>\n",
       "      <td>6</td>\n",
       "      <td>3</td>\n",
       "      <td>3MMT: Jun 2024</td>\n",
       "    </tr>\n",
       "    <tr>\n",
       "      <th>210571</th>\n",
       "      <td>2024</td>\n",
       "      <td>6</td>\n",
       "      <td>3</td>\n",
       "      <td>3MMT: Jun 2024</td>\n",
       "    </tr>\n",
       "    <tr>\n",
       "      <th>210572</th>\n",
       "      <td>2024</td>\n",
       "      <td>6</td>\n",
       "      <td>3</td>\n",
       "      <td>3MMT: Jun 2024</td>\n",
       "    </tr>\n",
       "    <tr>\n",
       "      <th>210573</th>\n",
       "      <td>2024</td>\n",
       "      <td>6</td>\n",
       "      <td>3</td>\n",
       "      <td>3MMT: Jun 2024</td>\n",
       "    </tr>\n",
       "    <tr>\n",
       "      <th>210574</th>\n",
       "      <td>2024</td>\n",
       "      <td>6</td>\n",
       "      <td>3</td>\n",
       "      <td>3MMT: Jun 2024</td>\n",
       "    </tr>\n",
       "  </tbody>\n",
       "</table>\n",
       "<p>24249 rows × 4 columns</p>\n",
       "</div>"
      ],
      "text/plain": [
       "        year  month  duration       period_lbl\n",
       "38028   2024      6        24  2MATs: Jun 2024\n",
       "38029   2024      6        24  2MATs: Jun 2024\n",
       "38030   2024      6        24  2MATs: Jun 2024\n",
       "38031   2024      6        24  2MATs: Jun 2024\n",
       "38032   2024      6        24  2MATs: Jun 2024\n",
       "...      ...    ...       ...              ...\n",
       "210570  2024      6         3   3MMT: Jun 2024\n",
       "210571  2024      6         3   3MMT: Jun 2024\n",
       "210572  2024      6         3   3MMT: Jun 2024\n",
       "210573  2024      6         3   3MMT: Jun 2024\n",
       "210574  2024      6         3   3MMT: Jun 2024\n",
       "\n",
       "[24249 rows x 4 columns]"
      ]
     },
     "execution_count": 126,
     "metadata": {},
     "output_type": "execute_result"
    }
   ],
   "source": [
    "df_in_one.loc[df_in_one['period_code'].isnull() , ['year', 'month', 'duration','period_lbl' ]]"
   ]
  }
 ],
 "metadata": {
  "kernelspec": {
   "display_name": "Python 3",
   "language": "python",
   "name": "python3"
  },
  "language_info": {
   "codemirror_mode": {
    "name": "ipython",
    "version": 3
   },
   "file_extension": ".py",
   "mimetype": "text/x-python",
   "name": "python",
   "nbconvert_exporter": "python",
   "pygments_lexer": "ipython3",
   "version": "3.12.4"
  }
 },
 "nbformat": 4,
 "nbformat_minor": 5
}
