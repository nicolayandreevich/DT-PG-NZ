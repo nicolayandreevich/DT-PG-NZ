{
 "cells": [
  {
   "cell_type": "code",
   "execution_count": 1,
   "id": "37092f94-6edb-48f5-ade8-06e3e038cad4",
   "metadata": {},
   "outputs": [],
   "source": [
    "import pandas as pd\n",
    "#!pip install pyreadstat\n",
    "#!pip install py7zr\n",
    "import py7zr\n",
    "import calendar\n",
    "import os"
   ]
  },
  {
   "cell_type": "code",
   "execution_count": 29,
   "id": "39550fef",
   "metadata": {},
   "outputs": [],
   "source": [
    "features_group = pd.read_excel(r'.\\codes\\feature_groups.xlsx')\n",
    "demo_order = pd.read_excel(r'.\\codes\\demo_order.xlsx')\n",
    "periods = pd.read_excel(r'.\\codes\\periods.xlsx', sheet_name ='period_lbl')\n",
    "time_period_type = pd.read_excel(r'.\\codes\\periods.xlsx', sheet_name ='time_period_type')\n",
    "year = pd.read_excel(r'.\\codes\\periods.xlsx', sheet_name ='year')\n",
    "segments_order = pd.read_excel(r'.\\codes\\segments_order.xlsx')"
   ]
  },
  {
   "cell_type": "code",
   "execution_count": 31,
   "id": "6d3fca09",
   "metadata": {},
   "outputs": [],
   "source": [
    "example = pd.read_excel(r'.\\codes\\Example.xlsx', sheet_name = 'example')\n",
    "legends = pd.read_excel(r'.\\codes\\Example.xlsx', sheet_name = 'legends')"
   ]
  },
  {
   "cell_type": "code",
   "execution_count": 4,
   "id": "1afc835f",
   "metadata": {},
   "outputs": [
    {
     "data": {
      "text/plain": [
       "['br_allshops.parquet',\n",
       " 'br_tot.parquet',\n",
       " 'deterg_allshops.parquet',\n",
       " 'deterg_tot.parquet',\n",
       " 'diapers_allshops.parquet',\n",
       " 'diapers_tot.parquet',\n",
       " 'femcare_allshops.parquet',\n",
       " 'femcare_tot.parquet',\n",
       " 'haircond_allshops.parquet',\n",
       " 'haircond_tot.parquet',\n",
       " 'shampoo_allshops.parquet',\n",
       " 'shampoo_tot.parquet']"
      ]
     },
     "execution_count": 4,
     "metadata": {},
     "output_type": "execute_result"
    }
   ],
   "source": [
    "#archive = py7zr.SevenZipFile('../data_in/out-for-datatile.7z', 'r')  \n",
    "#archive.extractall(path=\"/tmp\")\n",
    "path = '/tmp/out-for-datatile'\n",
    "files = os.listdir(path)\n",
    "files\n"
   ]
  },
  {
   "cell_type": "code",
   "execution_count": 5,
   "id": "6e30295d",
   "metadata": {},
   "outputs": [],
   "source": [
    "cat_dict = {'br':'MALE B&R', 'deterg': 'Laundry Detergents','diapers': 'Diapers','femcare': 'Feminine Care', \n",
    "                'haircond': 'Hair Conditioners', 'shampoo':'Shampoos' }\n",
    "time_period_type_dict ={ 24 :'2MATs/ 104 we', 12:'MAT/ 52 we', 3:'3MMT/ 12we' }"
   ]
  },
  {
   "cell_type": "code",
   "execution_count": 6,
   "id": "779c97f8",
   "metadata": {},
   "outputs": [],
   "source": [
    "def get_period_lbl(time_period_type, year, month):\n",
    "    return f\"{time_period_type.split('/')[0]}: {calendar.month_abbr[month]} {year}\"  "
   ]
  },
  {
   "cell_type": "code",
   "execution_count": 7,
   "id": "6daee56c",
   "metadata": {},
   "outputs": [],
   "source": [
    "def get_df_in_v2(path, file):\n",
    "    categoty  = cat_dict[file.split('_')[0]]\n",
    "    type_of_file = file.split('_')[1]\n",
    "    df_in = pd.read_parquet(f'{path}\\\\{file}')\n",
    "    df_in = df_in.rename({'Category Name':'Product Name', 'Buyer Group Name':'buyers_gr_label'\n",
    "                           }, axis=1 )\n",
    "    df_in['Category Name'] = [categoty] * len( df_in)\n",
    "    \n",
    "    col_to_int = ['duration', 'year', 'month']\n",
    "    for col in col_to_int:\n",
    "        df_in[col] = df_in[col].astype(int)\n",
    "    \n",
    "    df_in['time_period_type'] = df_in['duration'].map(time_period_type_dict) \n",
    "    #Ниже нужно оптимизировать функцию, по 10 секунд выполняется\n",
    "    df_in['period_lbl'] = df_in[['time_period_type', 'year', 'month']].apply(lambda row:get_period_lbl(*row), axis=1)\n",
    "    print(sum(df_in['time_period_type'].isnull()))   \n",
    "    print(df_in.shape)\n",
    "    df_in = df_in.merge(features_group, on =['Category Name', 'Product Name'], how = 'left') \n",
    "    print(df_in.shape)\n",
    "    df_in = df_in.merge(demo_order, on =['buyers_gr_label'], how = 'left')\n",
    "    print(df_in.shape)\n",
    "    df_in = df_in.merge(periods, on =['period_lbl'], how = 'left') \n",
    "    print(df_in.shape)\n",
    "    df_in = df_in.merge(time_period_type, on =['time_period_type'], how = 'left')\n",
    "    print(df_in.shape)\n",
    "    df_in = df_in.merge(year, on =['year'], how = 'left')\n",
    "    print(df_in.shape)\n",
    "    df_in = df_in.merge(segments_order, on =['Segment'], how = 'left')\n",
    "    print(df_in.shape)\n",
    "    return df_in\n",
    "    "
   ]
  },
  {
   "cell_type": "code",
   "execution_count": 8,
   "id": "b9fd6335",
   "metadata": {},
   "outputs": [
    {
     "name": "stdout",
     "output_type": "stream",
     "text": [
      "0\n",
      "(210575, 34)\n",
      "(210575, 42)\n",
      "(210575, 47)\n",
      "(210575, 49)\n",
      "(210575, 50)\n",
      "(210575, 51)\n",
      "(210575, 52)\n"
     ]
    }
   ],
   "source": [
    "df_in_one = get_df_in_v2(path, files[0])"
   ]
  },
  {
   "cell_type": "code",
   "execution_count": 9,
   "id": "76ffdf55",
   "metadata": {},
   "outputs": [
    {
     "name": "stdout",
     "output_type": "stream",
     "text": [
      "0\n",
      "(8777, 34)\n",
      "(8777, 42)\n",
      "(8777, 47)\n",
      "(8777, 49)\n",
      "(8777, 50)\n",
      "(8777, 51)\n",
      "(8777, 52)\n"
     ]
    }
   ],
   "source": [
    "df_in_two = get_df_in_v2(path, files[1])"
   ]
  },
  {
   "cell_type": "code",
   "execution_count": 10,
   "id": "536b4d42",
   "metadata": {},
   "outputs": [],
   "source": [
    "for col in df_in_one:\n",
    "    if sum(df_in_one[col].isnull()) >0:\n",
    "        print(col,sum(df_in_one[col].isnull()))"
   ]
  },
  {
   "cell_type": "code",
   "execution_count": 11,
   "id": "a5dbb7d9",
   "metadata": {},
   "outputs": [
    {
     "data": {
      "text/plain": [
       "['Buyer Group ID',\n",
       " 'Category Name',\n",
       " 'Product Name',\n",
       " 'Segment',\n",
       " 'Vendor Product ID',\n",
       " 'avg_pack_size',\n",
       " 'avg_price_g',\n",
       " 'avg_price_pack',\n",
       " 'avg_price_su',\n",
       " 'buyers',\n",
       " 'buyers_gr_label',\n",
       " 'buyers_raw',\n",
       " 'category_code',\n",
       " 'demo_code',\n",
       " 'demo_hier',\n",
       " 'demo_lvls',\n",
       " 'duration',\n",
       " 'feature',\n",
       " 'feature_code',\n",
       " 'frequency',\n",
       " 'full_label',\n",
       " 'label_num',\n",
       " 'month',\n",
       " 'month_end',\n",
       " 'penetration',\n",
       " 'period_code',\n",
       " 'period_lbl',\n",
       " 'population',\n",
       " 'position_name_shop',\n",
       " 'product_code',\n",
       " 'product_hier',\n",
       " 'product_lvls',\n",
       " 'segment_code',\n",
       " 'socdem_gr',\n",
       " 'spend_per_buyer',\n",
       " 'spend_per_trip',\n",
       " 'time_period_code',\n",
       " 'time_period_type',\n",
       " 'trips',\n",
       " 'trips_raw',\n",
       " 'value',\n",
       " 'volume_SU',\n",
       " 'volume_gl',\n",
       " 'volume_pack',\n",
       " 'volume_per_buyer_g',\n",
       " 'volume_per_buyer_pack',\n",
       " 'volume_per_buyer_su',\n",
       " 'volume_per_trip_g',\n",
       " 'volume_per_trip_pack',\n",
       " 'volume_per_trip_su',\n",
       " 'year',\n",
       " 'year_code']"
      ]
     },
     "execution_count": 11,
     "metadata": {},
     "output_type": "execute_result"
    }
   ],
   "source": [
    "sorted(df_in_one.columns)"
   ]
  },
  {
   "cell_type": "code",
   "execution_count": 13,
   "id": "e335071b",
   "metadata": {},
   "outputs": [],
   "source": [
    "df_in_one.columns =[col.lower().replace(' ','_')  for col in  df_in_one.columns]"
   ]
  },
  {
   "cell_type": "code",
   "execution_count": 32,
   "id": "ffa8494a",
   "metadata": {},
   "outputs": [
    {
     "data": {
      "text/plain": [
       "{'avg_price_su': 'average_per_su_local_currency',\n",
       " 'buyers': 'buying_households',\n",
       " 'segment_code': 'cat_segment',\n",
       " 'category_code': 'category',\n",
       " 'demo_code': 'demo_groups',\n",
       " 'feature_code': 'features',\n",
       " 'penetration': 'percent_household_penetration',\n",
       " 'product_code': 'products',\n",
       " 'frequency': 'purchase_frequency',\n",
       " 'avg_price_pack': 'purchase_size_su',\n",
       " 'buyers_raw': 'raw_shoppers',\n",
       " 'value': 'spend_local_currency',\n",
       " 'volume_pack': 'volume_physical_units',\n",
       " 'volume_su': 'volume_su'}"
      ]
     },
     "execution_count": 32,
     "metadata": {},
     "output_type": "execute_result"
    }
   ],
   "source": [
    "metric_dict = {}\n",
    "for m, c in legends.loc[legends['mask'].notna(), ['mask','Colum' ]].values:\n",
    "    metric_dict[m] = c\n",
    "metric_dict    "
   ]
  },
  {
   "cell_type": "code",
   "execution_count": 33,
   "id": "f5cc8bba",
   "metadata": {},
   "outputs": [],
   "source": [
    "df_in_one = df_in_one.rename(metric_dict, axis=1)"
   ]
  },
  {
   "cell_type": "code",
   "execution_count": 34,
   "id": "00b94c61",
   "metadata": {},
   "outputs": [
    {
     "data": {
      "text/plain": [
       "['average_per_su_local_currency',\n",
       " 'avg_pack_size',\n",
       " 'avg_price_g',\n",
       " 'buyer_group_id',\n",
       " 'buyers_gr_label',\n",
       " 'buying_households',\n",
       " 'cat_segment',\n",
       " 'category',\n",
       " 'category_name',\n",
       " 'demo_groups',\n",
       " 'demo_hier',\n",
       " 'demo_lvls',\n",
       " 'duration',\n",
       " 'feature',\n",
       " 'features',\n",
       " 'full_label',\n",
       " 'label_num',\n",
       " 'month',\n",
       " 'month_end',\n",
       " 'percent_household_penetration',\n",
       " 'period_code',\n",
       " 'period_lbl',\n",
       " 'population',\n",
       " 'position_name_shop',\n",
       " 'product_hier',\n",
       " 'product_lvls',\n",
       " 'product_name',\n",
       " 'products',\n",
       " 'purchase_frequency',\n",
       " 'purchase_size_su',\n",
       " 'raw_shoppers',\n",
       " 'segment',\n",
       " 'socdem_gr',\n",
       " 'spend_local_currency',\n",
       " 'spend_per_buyer',\n",
       " 'spend_per_trip',\n",
       " 'time_period_code',\n",
       " 'time_period_type',\n",
       " 'trips',\n",
       " 'trips_raw',\n",
       " 'vendor_product_id',\n",
       " 'volume_gl',\n",
       " 'volume_per_buyer_g',\n",
       " 'volume_per_buyer_pack',\n",
       " 'volume_per_buyer_su',\n",
       " 'volume_per_trip_g',\n",
       " 'volume_per_trip_pack',\n",
       " 'volume_per_trip_su',\n",
       " 'volume_physical_units',\n",
       " 'volume_su',\n",
       " 'year',\n",
       " 'year_code']"
      ]
     },
     "execution_count": 34,
     "metadata": {},
     "output_type": "execute_result"
    }
   ],
   "source": [
    "sorted(df_in_one.columns)"
   ]
  },
  {
   "cell_type": "code",
   "execution_count": 35,
   "id": "33e575df",
   "metadata": {},
   "outputs": [],
   "source": [
    "legends['is_got'] = legends['Colum'].apply(lambda x: x in df_in_one.columns )"
   ]
  },
  {
   "cell_type": "code",
   "execution_count": 36,
   "id": "dab30643",
   "metadata": {},
   "outputs": [
    {
     "data": {
      "text/html": [
       "<div>\n",
       "<style scoped>\n",
       "    .dataframe tbody tr th:only-of-type {\n",
       "        vertical-align: middle;\n",
       "    }\n",
       "\n",
       "    .dataframe tbody tr th {\n",
       "        vertical-align: top;\n",
       "    }\n",
       "\n",
       "    .dataframe thead th {\n",
       "        text-align: right;\n",
       "    }\n",
       "</style>\n",
       "<table border=\"1\" class=\"dataframe\">\n",
       "  <thead>\n",
       "    <tr style=\"text-align: right;\">\n",
       "      <th></th>\n",
       "      <th>Colum</th>\n",
       "      <th>Source</th>\n",
       "      <th>mask</th>\n",
       "      <th>is_got</th>\n",
       "    </tr>\n",
       "  </thead>\n",
       "  <tbody>\n",
       "    <tr>\n",
       "      <th>1</th>\n",
       "      <td>average_per_su_usd</td>\n",
       "      <td>metrics</td>\n",
       "      <td>NaN</td>\n",
       "      <td>False</td>\n",
       "    </tr>\n",
       "    <tr>\n",
       "      <th>9</th>\n",
       "      <td>item_buying_rate_local_currency</td>\n",
       "      <td>metrics</td>\n",
       "      <td>NaN</td>\n",
       "      <td>False</td>\n",
       "    </tr>\n",
       "    <tr>\n",
       "      <th>10</th>\n",
       "      <td>item_buying_rate_usd</td>\n",
       "      <td>metrics</td>\n",
       "      <td>NaN</td>\n",
       "      <td>False</td>\n",
       "    </tr>\n",
       "    <tr>\n",
       "      <th>11</th>\n",
       "      <td>loyalty_value_based_local_currency</td>\n",
       "      <td>metrics</td>\n",
       "      <td>NaN</td>\n",
       "      <td>False</td>\n",
       "    </tr>\n",
       "    <tr>\n",
       "      <th>12</th>\n",
       "      <td>loyalty_value_based_usd</td>\n",
       "      <td>metrics</td>\n",
       "      <td>NaN</td>\n",
       "      <td>False</td>\n",
       "    </tr>\n",
       "    <tr>\n",
       "      <th>13</th>\n",
       "      <td>loyalty_volume_based</td>\n",
       "      <td>metrics</td>\n",
       "      <td>NaN</td>\n",
       "      <td>False</td>\n",
       "    </tr>\n",
       "    <tr>\n",
       "      <th>14</th>\n",
       "      <td>occasions</td>\n",
       "      <td>metrics</td>\n",
       "      <td>NaN</td>\n",
       "      <td>False</td>\n",
       "    </tr>\n",
       "    <tr>\n",
       "      <th>15</th>\n",
       "      <td>percent_2__time_buyers</td>\n",
       "      <td>metrics</td>\n",
       "      <td>NaN</td>\n",
       "      <td>False</td>\n",
       "    </tr>\n",
       "    <tr>\n",
       "      <th>22</th>\n",
       "      <td>purchase_size_local_currency</td>\n",
       "      <td>metrics</td>\n",
       "      <td>NaN</td>\n",
       "      <td>False</td>\n",
       "    </tr>\n",
       "    <tr>\n",
       "      <th>24</th>\n",
       "      <td>purchase_size_usd</td>\n",
       "      <td>metrics</td>\n",
       "      <td>NaN</td>\n",
       "      <td>False</td>\n",
       "    </tr>\n",
       "    <tr>\n",
       "      <th>28</th>\n",
       "      <td>spend_usd</td>\n",
       "      <td>metrics</td>\n",
       "      <td>NaN</td>\n",
       "      <td>False</td>\n",
       "    </tr>\n",
       "  </tbody>\n",
       "</table>\n",
       "</div>"
      ],
      "text/plain": [
       "                                 Colum   Source mask  is_got\n",
       "1                   average_per_su_usd  metrics  NaN   False\n",
       "9      item_buying_rate_local_currency  metrics  NaN   False\n",
       "10                item_buying_rate_usd  metrics  NaN   False\n",
       "11  loyalty_value_based_local_currency  metrics  NaN   False\n",
       "12             loyalty_value_based_usd  metrics  NaN   False\n",
       "13                loyalty_volume_based  metrics  NaN   False\n",
       "14                           occasions  metrics  NaN   False\n",
       "15              percent_2__time_buyers  metrics  NaN   False\n",
       "22        purchase_size_local_currency  metrics  NaN   False\n",
       "24                   purchase_size_usd  metrics  NaN   False\n",
       "28                           spend_usd  metrics  NaN   False"
      ]
     },
     "execution_count": 36,
     "metadata": {},
     "output_type": "execute_result"
    }
   ],
   "source": [
    "legends[legends['is_got']==False]"
   ]
  },
  {
   "cell_type": "code",
   "execution_count": 19,
   "id": "0cb5c920",
   "metadata": {},
   "outputs": [],
   "source": [
    "df_out = pd.read_spss('..//PG_cat1_chunk0.sav')"
   ]
  },
  {
   "cell_type": "code",
   "execution_count": 20,
   "id": "5b7fa57c",
   "metadata": {},
   "outputs": [
    {
     "data": {
      "text/plain": [
       "['average_per_su_local_currency',\n",
       " 'avg_pack_size',\n",
       " 'avg_price_g',\n",
       " 'buyer_group_id',\n",
       " 'buyers_gr_label',\n",
       " 'buying_households',\n",
       " 'cat_segment',\n",
       " 'category_code',\n",
       " 'category_name',\n",
       " 'demo_groups',\n",
       " 'demo_hier',\n",
       " 'demo_lvls',\n",
       " 'duration',\n",
       " 'feature',\n",
       " 'features',\n",
       " 'full_label',\n",
       " 'label_num',\n",
       " 'month',\n",
       " 'month_end',\n",
       " 'percent_household_penetration',\n",
       " 'period_code',\n",
       " 'period_lbl',\n",
       " 'population',\n",
       " 'position_name_shop',\n",
       " 'product_hier',\n",
       " 'product_lvls',\n",
       " 'product_name',\n",
       " 'products',\n",
       " 'purchase_frequency',\n",
       " 'purchase_size_su',\n",
       " 'raw_shoppers',\n",
       " 'segment',\n",
       " 'socdem_gr',\n",
       " 'spend_local_currency',\n",
       " 'spend_per_buyer',\n",
       " 'spend_per_trip',\n",
       " 'time_period_code',\n",
       " 'time_period_type',\n",
       " 'trips',\n",
       " 'trips_raw',\n",
       " 'vendor_product_id',\n",
       " 'volume_gl',\n",
       " 'volume_per_buyer_g',\n",
       " 'volume_per_buyer_pack',\n",
       " 'volume_per_buyer_su',\n",
       " 'volume_per_trip_g',\n",
       " 'volume_per_trip_pack',\n",
       " 'volume_per_trip_su',\n",
       " 'volume_physical_units',\n",
       " 'volume_su',\n",
       " 'year',\n",
       " 'year_code']"
      ]
     },
     "execution_count": 20,
     "metadata": {},
     "output_type": "execute_result"
    }
   ],
   "source": [
    "sorted(df_in_one.columns)"
   ]
  },
  {
   "cell_type": "code",
   "execution_count": 39,
   "id": "f7543f98",
   "metadata": {},
   "outputs": [
    {
     "data": {
      "text/html": [
       "<div>\n",
       "<style scoped>\n",
       "    .dataframe tbody tr th:only-of-type {\n",
       "        vertical-align: middle;\n",
       "    }\n",
       "\n",
       "    .dataframe tbody tr th {\n",
       "        vertical-align: top;\n",
       "    }\n",
       "\n",
       "    .dataframe thead th {\n",
       "        text-align: right;\n",
       "    }\n",
       "</style>\n",
       "<table border=\"1\" class=\"dataframe\">\n",
       "  <thead>\n",
       "    <tr style=\"text-align: right;\">\n",
       "      <th></th>\n",
       "      <th>product_lvls</th>\n",
       "      <th>product_name</th>\n",
       "      <th>products</th>\n",
       "    </tr>\n",
       "  </thead>\n",
       "  <tbody>\n",
       "    <tr>\n",
       "      <th>0</th>\n",
       "      <td>0</td>\n",
       "      <td>MALE B&amp;R</td>\n",
       "      <td>2000</td>\n",
       "    </tr>\n",
       "    <tr>\n",
       "      <th>1</th>\n",
       "      <td>0</td>\n",
       "      <td>MALE B&amp;R</td>\n",
       "      <td>2000</td>\n",
       "    </tr>\n",
       "    <tr>\n",
       "      <th>2</th>\n",
       "      <td>0</td>\n",
       "      <td>MALE B&amp;R</td>\n",
       "      <td>2000</td>\n",
       "    </tr>\n",
       "    <tr>\n",
       "      <th>3</th>\n",
       "      <td>0</td>\n",
       "      <td>MALE B&amp;R</td>\n",
       "      <td>2000</td>\n",
       "    </tr>\n",
       "    <tr>\n",
       "      <th>4</th>\n",
       "      <td>0</td>\n",
       "      <td>MALE B&amp;R</td>\n",
       "      <td>2000</td>\n",
       "    </tr>\n",
       "    <tr>\n",
       "      <th>...</th>\n",
       "      <td>...</td>\n",
       "      <td>...</td>\n",
       "      <td>...</td>\n",
       "    </tr>\n",
       "    <tr>\n",
       "      <th>210570</th>\n",
       "      <td>1</td>\n",
       "      <td>BIC MB&amp;R</td>\n",
       "      <td>2004</td>\n",
       "    </tr>\n",
       "    <tr>\n",
       "      <th>210571</th>\n",
       "      <td>2</td>\n",
       "      <td>P&amp;G MSys</td>\n",
       "      <td>2009</td>\n",
       "    </tr>\n",
       "    <tr>\n",
       "      <th>210572</th>\n",
       "      <td>2</td>\n",
       "      <td>MSys 3bld</td>\n",
       "      <td>2007</td>\n",
       "    </tr>\n",
       "    <tr>\n",
       "      <th>210573</th>\n",
       "      <td>5</td>\n",
       "      <td>ProTier MSys</td>\n",
       "      <td>2012</td>\n",
       "    </tr>\n",
       "    <tr>\n",
       "      <th>210574</th>\n",
       "      <td>2</td>\n",
       "      <td>Retailer Brand MSys</td>\n",
       "      <td>2034</td>\n",
       "    </tr>\n",
       "  </tbody>\n",
       "</table>\n",
       "<p>210575 rows × 3 columns</p>\n",
       "</div>"
      ],
      "text/plain": [
       "        product_lvls         product_name  products\n",
       "0                  0             MALE B&R      2000\n",
       "1                  0             MALE B&R      2000\n",
       "2                  0             MALE B&R      2000\n",
       "3                  0             MALE B&R      2000\n",
       "4                  0             MALE B&R      2000\n",
       "...              ...                  ...       ...\n",
       "210570             1             BIC MB&R      2004\n",
       "210571             2             P&G MSys      2009\n",
       "210572             2            MSys 3bld      2007\n",
       "210573             5         ProTier MSys      2012\n",
       "210574             2  Retailer Brand MSys      2034\n",
       "\n",
       "[210575 rows x 3 columns]"
      ]
     },
     "execution_count": 39,
     "metadata": {},
     "output_type": "execute_result"
    }
   ],
   "source": [
    "df_in_one[[ 'product_lvls','product_name','products',]]"
   ]
  },
  {
   "cell_type": "code",
   "execution_count": 40,
   "id": "3f051e96",
   "metadata": {},
   "outputs": [
    {
     "data": {
      "text/plain": [
       "Index(['product_lvls', 'category', 'demo_lvls', 'socdem_gr',\n",
       "       'time_period_type', 'year', 'period_lbl', 'buying_households',\n",
       "       'raw_shoppers', 'loyalty_volume_based',\n",
       "       'loyalty_value_based_local_currency', 'loyalty_value_based_usd',\n",
       "       'percent_2__time_buyers', 'percent_household_penetration',\n",
       "       'purchase_frequency', 'occasions', 'item_buying_rate_local_currency',\n",
       "       'item_buying_rate_usd', 'purchase_size_local_currency',\n",
       "       'purchase_size_usd', 'purchase_size_su',\n",
       "       'average_per_su_local_currency', 'average_per_su_usd', 'volume_su',\n",
       "       'volume_physical_units', 'spend_local_currency', 'spend_usd',\n",
       "       'product_hier', 'demo_hier', 'products', 'features', 'cat_segment',\n",
       "       'demo_groups'],\n",
       "      dtype='object')"
      ]
     },
     "execution_count": 40,
     "metadata": {},
     "output_type": "execute_result"
    }
   ],
   "source": [
    "example.columns"
   ]
  },
  {
   "cell_type": "code",
   "execution_count": null,
   "id": "43cf4d1a",
   "metadata": {},
   "outputs": [],
   "source": [
    "example[['product_lvls','products' ]]"
   ]
  }
 ],
 "metadata": {
  "kernelspec": {
   "display_name": "Python 3",
   "language": "python",
   "name": "python3"
  },
  "language_info": {
   "codemirror_mode": {
    "name": "ipython",
    "version": 3
   },
   "file_extension": ".py",
   "mimetype": "text/x-python",
   "name": "python",
   "nbconvert_exporter": "python",
   "pygments_lexer": "ipython3",
   "version": "3.12.4"
  }
 },
 "nbformat": 4,
 "nbformat_minor": 5
}
