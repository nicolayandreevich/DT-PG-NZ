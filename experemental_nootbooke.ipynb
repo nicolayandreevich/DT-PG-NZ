{
 "cells": [
  {
   "cell_type": "code",
   "execution_count": 1,
   "metadata": {},
   "outputs": [],
   "source": [
    "import pandas as pd\n",
    "from zipfile import ZipFile\n",
    "from  pathlib import Path\n",
    "import calendar\n",
    "import datetime\n",
    "import pickle"
   ]
  },
  {
   "cell_type": "code",
   "execution_count": 48,
   "metadata": {},
   "outputs": [],
   "source": [
    "path = Path(r'C:\\Users\\nyzhur\\Git\\pg-dt-portal-for-nz\\codes\\periods.xlsx')"
   ]
  },
  {
   "cell_type": "code",
   "execution_count": 2,
   "metadata": {},
   "outputs": [
    {
     "name": "stdout",
     "output_type": "stream",
     "text": [
      "{}\n"
     ]
    }
   ],
   "source": [
    "new_data =pd.read_parquet('data/new_data_merged/new_data.pq')\n",
    "col_check = {}\n",
    "for col in new_data.columns:\n",
    "    if new_data[col].isna().sum():\n",
    "        col_check[col] = new_data[col].isna().sum()\n",
    "print(col_check)\n",
    "      "
   ]
  },
  {
   "cell_type": "code",
   "execution_count": null,
   "metadata": {},
   "outputs": [],
   "source": [
    "new_data"
   ]
  },
  {
   "cell_type": "code",
   "execution_count": 4,
   "metadata": {},
   "outputs": [
    {
     "data": {
      "text/plain": [
       "array(['out_datatile/diapers_socdem-new24.parquet'], dtype=object)"
      ]
     },
     "execution_count": 4,
     "metadata": {},
     "output_type": "execute_result"
    }
   ],
   "source": [
    "bad_file = new_data[new_data['cat_segment'].isna()]['file'].unique()  \n",
    "bad_file"
   ]
  },
  {
   "cell_type": "code",
   "execution_count": 98,
   "metadata": {},
   "outputs": [
    {
     "data": {
      "text/plain": [
       "array(['out_datatile/diapers_socdem-new24.parquet'], dtype=object)"
      ]
     },
     "execution_count": 98,
     "metadata": {},
     "output_type": "execute_result"
    }
   ],
   "source": [
    "bad_file"
   ]
  },
  {
   "cell_type": "code",
   "execution_count": 6,
   "metadata": {},
   "outputs": [],
   "source": [
    "features_group = pd.read_excel(r'.\\codes\\feature_groups.xlsx')\n",
    "demo_order = pd.read_excel(r'.\\codes\\demo_order.xlsx')\n",
    "demo_order['buyers_gr_label'] = demo_order['buyers_gr_label'].astype(str)"
   ]
  },
  {
   "cell_type": "code",
   "execution_count": 7,
   "metadata": {},
   "outputs": [],
   "source": [
    "def get_category(name_of_file):\n",
    "    cat_dict = {\n",
    "    'br':'MALE B&R', 'deterg': 'Laundry Detergents',\n",
    "    'diapers': 'Diapers','femcare': 'Feminine Care', \n",
    "    'haircond': 'Hair Conditioners', 'shampoo':'Shampoos'}\n",
    "    for k in cat_dict.keys():\n",
    "        if name_of_file.count(k):\n",
    "            return cat_dict[k]\n",
    "    else:\n",
    "        raise ValueError('В названии файла нет категории', name_of_file)    "
   ]
  },
  {
   "cell_type": "code",
   "execution_count": 54,
   "metadata": {},
   "outputs": [],
   "source": [
    "with open('data/tmp/old_data.pickle', 'rb') as f:\n",
    "    old_data = pickle.load(f)"
   ]
  },
  {
   "cell_type": "code",
   "execution_count": 8,
   "metadata": {},
   "outputs": [
    {
     "name": "stdout",
     "output_type": "stream",
     "text": [
      "Добавилось строк 0\n"
     ]
    }
   ],
   "source": [
    "dfs = []\n",
    "for n in range(len(bad_file)):\n",
    "  paths = f\"data/tmp/7z/{bad_file[n]}\"\n",
    "  aaa = pd.read_parquet(paths)\n",
    "  df_in = aaa.rename(\n",
    "  {'Category Name':'Product Name', 'Buyer Group Name':'buyers_gr_label'}, \n",
    "  axis=1)\n",
    "  df_in['Category Name'] = get_category(paths)\n",
    "  if ('Segment' not in df_in.columns):\n",
    "    print(\"нет сегмента\")\n",
    "\n",
    "\n",
    "  i =df_in.shape[0]\n",
    "  df_in = df_in.merge(\n",
    "  features_group,#.drop(columns='Product Name'), \n",
    "  left_on=['Category Name', 'Product Name'], \n",
    "  right_on=['Category Name','full_label' ], #'full_label'\n",
    "  how='left')#, validate='many_to_one')\n",
    "  df_in['file'] = paths\n",
    "  print('Добавилось строк', df_in.shape[0] - i)\n",
    "  dfs.append(df_in)\n",
    "\n",
    "suka = pd.concat(dfs, ignore_index=True)"
   ]
  },
  {
   "cell_type": "code",
   "execution_count": 15,
   "metadata": {},
   "outputs": [],
   "source": [
    "paths = f\"data/tmp/7z/{bad_file[0]}\"\n",
    "aaa = pd.read_parquet(paths)"
   ]
  },
  {
   "cell_type": "code",
   "execution_count": 18,
   "metadata": {},
   "outputs": [
    {
     "data": {
      "text/plain": [
       "array(['Total Diapers', 'POME (0,1,2)', 'Non POME', 'Taped',\n",
       "       'Total Diapers size', 'Non-Taped'], dtype=object)"
      ]
     },
     "execution_count": 18,
     "metadata": {},
     "output_type": "execute_result"
    }
   ],
   "source": [
    "aaa['Segment'].unique()"
   ]
  },
  {
   "cell_type": "code",
   "execution_count": 103,
   "metadata": {},
   "outputs": [],
   "source": [
    "what =set(suka['buyers_gr_label'].str.lower().unique())- set(demo_order['buyers_gr_label'].str.lower())"
   ]
  },
  {
   "cell_type": "code",
   "execution_count": 104,
   "metadata": {},
   "outputs": [
    {
     "data": {
      "text/plain": [
       "set()"
      ]
     },
     "execution_count": 104,
     "metadata": {},
     "output_type": "execute_result"
    }
   ],
   "source": [
    "what"
   ]
  },
  {
   "cell_type": "code",
   "execution_count": 74,
   "metadata": {},
   "outputs": [],
   "source": [
    "suka['buyers_gr_label'] = suka['buyers_gr_label'].str.lower()"
   ]
  },
  {
   "cell_type": "code",
   "execution_count": 77,
   "metadata": {},
   "outputs": [
    {
     "name": "stderr",
     "output_type": "stream",
     "text": [
      "C:\\Users\\nyzhur\\AppData\\Local\\Temp\\ipykernel_18652\\3273523086.py:1: SettingWithCopyWarning: \n",
      "A value is trying to be set on a copy of a slice from a DataFrame.\n",
      "Try using .loc[row_indexer,col_indexer] = value instead\n",
      "\n",
      "See the caveats in the documentation: https://pandas.pydata.org/pandas-docs/stable/user_guide/indexing.html#returning-a-view-versus-a-copy\n",
      "  suka[suka['buyers_gr_label'].isin(['1','2','3'])]['buyers_gr_label'] = suka[suka['buyers_gr_label'].isin(['1','2','3'])]['buyers_gr_label'].astype(int)\n"
     ]
    }
   ],
   "source": [
    "suka[suka['buyers_gr_label'].isin(['1','2','3'])]['buyers_gr_label'] = suka[suka['buyers_gr_label'].isin(['1','2','3'])]['buyers_gr_label'].astype(int)"
   ]
  },
  {
   "cell_type": "code",
   "execution_count": 85,
   "metadata": {},
   "outputs": [],
   "source": [
    "eb = suka[suka['buyers_gr_label'].isin(['1','2','3'])]['buyers_gr_label'].astype(int)"
   ]
  },
  {
   "cell_type": "code",
   "execution_count": 93,
   "metadata": {},
   "outputs": [],
   "source": [
    "demo_order['buyers_gr_label'] = demo_order['buyers_gr_label'].astype(str)"
   ]
  },
  {
   "cell_type": "code",
   "execution_count": 94,
   "metadata": {},
   "outputs": [
    {
     "data": {
      "text/plain": [
       "str"
      ]
     },
     "execution_count": 94,
     "metadata": {},
     "output_type": "execute_result"
    }
   ],
   "source": [
    "type(demo_order['buyers_gr_label'].iloc[9])"
   ]
  },
  {
   "cell_type": "code",
   "execution_count": 78,
   "metadata": {},
   "outputs": [
    {
     "data": {
      "text/plain": [
       "{'1', '2', '3'}"
      ]
     },
     "execution_count": 78,
     "metadata": {},
     "output_type": "execute_result"
    }
   ],
   "source": [
    "set(suka['buyers_gr_label'].unique())- set(demo_order['buyers_gr_label'].str.lower())"
   ]
  },
  {
   "cell_type": "code",
   "execution_count": 73,
   "metadata": {},
   "outputs": [
    {
     "name": "stdout",
     "output_type": "stream",
     "text": [
      "<class 'str'>\n",
      "<class 'str'>\n",
      "<class 'str'>\n"
     ]
    }
   ],
   "source": [
    "for i in what:\n",
    "    print(type(i))"
   ]
  },
  {
   "cell_type": "code",
   "execution_count": 67,
   "metadata": {},
   "outputs": [
    {
     "data": {
      "text/plain": [
       "array(['total demographics', '500 thd - 1 mln population',\n",
       "       'family with children 6-12 year', '2',\n",
       "       'no children <20 years (rest)', 'high affluency', '3',\n",
       "       '30-39 years', 'moscow', '10 thd - 500 thd population',\n",
       "       'below average affluency', '1mln+ population',\n",
       "       'children 6-14 years', 'family with children <18',\n",
       "       'employed full-time', 'family with children 0-3 years',\n",
       "       '18-29 years', 'rural area', 'family with children 13-18 yea',\n",
       "       'lifestages', 'senior singles/couples without',\n",
       "       'size of households', '1', 'retired singles/couples withou',\n",
       "       'not employed', 'st.petersburg', 'family with children <6 years',\n",
       "       'children <6 years', 'above average affluency',\n",
       "       'mature singles/couples without', '40-49 years', 'occupation',\n",
       "       'young singles/couples without', '4+', '50-59 years',\n",
       "       'low affluency', 'age', 'affluency', 'children',\n",
       "       'children 15-19 years', '60+ years', 'geographical area',\n",
       "       'employed part-time', 'family with children 4-5 years', 'income',\n",
       "       '10001-45000 rbls', '0-12 month', '45001-60000 rbls',\n",
       "       '> 60000 rbls', '<10000 rbls', '13-24 month', '25-36 month',\n",
       "       'age of baby', 'teen girls 10 to 17 y.o', '25-34 yrs old',\n",
       "       'teen girls 18 to 24 y.o', '35-49 yrs old',\n",
       "       'age of total household', '50-64 yrs old', 'no teen in hh',\n",
       "       '18-24 yrs old', 'pome', '65+ yrs old'], dtype=object)"
      ]
     },
     "execution_count": 67,
     "metadata": {},
     "output_type": "execute_result"
    }
   ],
   "source": [
    "suka['buyers_gr_label'].str.lower().unique()"
   ]
  },
  {
   "cell_type": "code",
   "execution_count": null,
   "metadata": {},
   "outputs": [
    {
     "data": {
      "text/plain": [
       "{'Segment': 1168619}"
      ]
     },
     "execution_count": 40,
     "metadata": {},
     "output_type": "execute_result"
    }
   ],
   "source": [
    "bad_col = {}\n",
    "for col in suka.columns:\n",
    "    if suka[col].isna().sum():\n",
    "       bad_col[col] = suka[col].isna().sum()\n",
    "bad_col                "
   ]
  },
  {
   "cell_type": "code",
   "execution_count": 29,
   "metadata": {},
   "outputs": [
    {
     "data": {
      "text/plain": [
       "array(['data/tmp/7z/out_datatile/femcare_socdem-new24.parquet',\n",
       "       'data/tmp/7z/out_datatile/shampoo_socdem-new24.parquet'],\n",
       "      dtype=object)"
      ]
     },
     "execution_count": 29,
     "metadata": {},
     "output_type": "execute_result"
    }
   ],
   "source": [
    "blyad = suka[suka['Segment'].isna()]['file'].unique()\n",
    "blyad"
   ]
  },
  {
   "cell_type": "code",
   "execution_count": 46,
   "metadata": {},
   "outputs": [
    {
     "data": {
      "text/plain": [
       "Index(['Product Name_x', 'Segment', 'position_name_shop', 'value', 'volume_gl',\n",
       "       'volume_SU', 'volume_pack', 'trips_raw', 'trips', 'buyers',\n",
       "       'buyers_raw', 'population', 'penetration', 'frequency',\n",
       "       'spend_per_buyer', 'spend_per_trip', 'volume_per_buyer_g',\n",
       "       'volume_per_buyer_su', 'volume_per_buyer_pack', 'volume_per_trip_g',\n",
       "       'volume_per_trip_su', 'volume_per_trip_pack', 'avg_price_g',\n",
       "       'avg_price_su', 'avg_price_pack', 'avg_pack_size', 'month_end',\n",
       "       'duration', 'buyers_gr_label', 'year', 'month', 'Category Name',\n",
       "       'Vendor Product ID', 'Product Name_y', 'feature', 'feature_code',\n",
       "       'category_code', 'product_code', 'full_label', 'product_hier',\n",
       "       'product_lvls', 'file'],\n",
       "      dtype='object')"
      ]
     },
     "execution_count": 46,
     "metadata": {},
     "output_type": "execute_result"
    }
   ],
   "source": [
    "suka.columns"
   ]
  },
  {
   "cell_type": "code",
   "execution_count": 44,
   "metadata": {},
   "outputs": [
    {
     "data": {
      "text/plain": [
       "array(['TOTAL DEMOGRAPHICS'], dtype=object)"
      ]
     },
     "execution_count": 44,
     "metadata": {},
     "output_type": "execute_result"
    }
   ],
   "source": [
    "suka['buyers_gr_label'].unique()"
   ]
  },
  {
   "cell_type": "code",
   "execution_count": 43,
   "metadata": {},
   "outputs": [
    {
     "ename": "EOFError",
     "evalue": "Ran out of input",
     "output_type": "error",
     "traceback": [
      "\u001b[1;31m---------------------------------------------------------------------------\u001b[0m",
      "\u001b[1;31mEOFError\u001b[0m                                  Traceback (most recent call last)",
      "Cell \u001b[1;32mIn[43], line 2\u001b[0m\n\u001b[0;32m      1\u001b[0m \u001b[38;5;28;01mwith\u001b[39;00m \u001b[38;5;28mopen\u001b[39m(\u001b[38;5;124mr\u001b[39m\u001b[38;5;124m'\u001b[39m\u001b[38;5;124mdata\u001b[39m\u001b[38;5;124m\\\u001b[39m\u001b[38;5;124mtmp\u001b[39m\u001b[38;5;124m\\\u001b[39m\u001b[38;5;124mbad_codes.pickle\u001b[39m\u001b[38;5;124m'\u001b[39m, \u001b[38;5;124m'\u001b[39m\u001b[38;5;124mrb\u001b[39m\u001b[38;5;124m'\u001b[39m) \u001b[38;5;28;01mas\u001b[39;00m f:\n\u001b[1;32m----> 2\u001b[0m   values_no_code \u001b[38;5;241m=\u001b[39m \u001b[43mpickle\u001b[49m\u001b[38;5;241;43m.\u001b[39;49m\u001b[43mload\u001b[49m\u001b[43m(\u001b[49m\u001b[43mf\u001b[49m\u001b[43m)\u001b[49m     \n",
      "\u001b[1;31mEOFError\u001b[0m: Ran out of input"
     ]
    }
   ],
   "source": [
    "\n",
    "with open(r'data\\tmp\\bad_codes.pickle', 'rb') as f:\n",
    "  values_no_code = pickle.load(f)     "
   ]
  }
 ],
 "metadata": {
  "kernelspec": {
   "display_name": "base",
   "language": "python",
   "name": "python3"
  },
  "language_info": {
   "codemirror_mode": {
    "name": "ipython",
    "version": 3
   },
   "file_extension": ".py",
   "mimetype": "text/x-python",
   "name": "python",
   "nbconvert_exporter": "python",
   "pygments_lexer": "ipython3",
   "version": "3.12.4"
  }
 },
 "nbformat": 4,
 "nbformat_minor": 2
}
